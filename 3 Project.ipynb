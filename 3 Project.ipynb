{
 "cells": [
  {
   "cell_type": "code",
   "execution_count": 5,
   "id": "4e87e73f",
   "metadata": {},
   "outputs": [
    {
     "name": "stdout",
     "output_type": "stream",
     "text": [
      "   total_images  last_price  total_area first_day_exposition  rooms  \\\n",
      "0            20  13000000.0       108.0  2019-03-07T00:00:00      3   \n",
      "1             7   3350000.0        40.4  2018-12-04T00:00:00      1   \n",
      "2            10   5196000.0        56.0  2015-08-20T00:00:00      2   \n",
      "3             0  64900000.0       159.0  2015-07-24T00:00:00      3   \n",
      "4             2  10000000.0       100.0  2018-06-19T00:00:00      2   \n",
      "\n",
      "   ceiling_height  floors_total  living_area  floor is_apartment  ...  \\\n",
      "0            2.70          16.0         51.0      8          NaN  ...   \n",
      "1             NaN          11.0         18.6      1          NaN  ...   \n",
      "2             NaN           5.0         34.3      4          NaN  ...   \n",
      "3             NaN          14.0          NaN      9          NaN  ...   \n",
      "4            3.03          14.0         32.0     13          NaN  ...   \n",
      "\n",
      "   kitchen_area  balcony    locality_name  airports_nearest  \\\n",
      "0          25.0      NaN  Санкт-Петербург           18863.0   \n",
      "1          11.0      2.0   посёлок Шушары           12817.0   \n",
      "2           8.3      0.0  Санкт-Петербург           21741.0   \n",
      "3           NaN      0.0  Санкт-Петербург           28098.0   \n",
      "4          41.0      NaN  Санкт-Петербург           31856.0   \n",
      "\n",
      "  cityCenters_nearest  parks_around3000  parks_nearest  ponds_around3000  \\\n",
      "0             16028.0               1.0          482.0               2.0   \n",
      "1             18603.0               0.0            NaN               0.0   \n",
      "2             13933.0               1.0           90.0               2.0   \n",
      "3              6800.0               2.0           84.0               3.0   \n",
      "4              8098.0               2.0          112.0               1.0   \n",
      "\n",
      "   ponds_nearest  days_exposition  \n",
      "0          755.0              NaN  \n",
      "1            NaN             81.0  \n",
      "2          574.0            558.0  \n",
      "3          234.0            424.0  \n",
      "4           48.0            121.0  \n",
      "\n",
      "[5 rows x 22 columns]\n"
     ]
    }
   ],
   "source": [
    "import pandas as pd\n",
    "df=pd.read_csv('real_estate_data.csv', sep='\\t')\n",
    "print(df.head())"
   ]
  },
  {
   "cell_type": "markdown",
   "id": "8cc67854",
   "metadata": {},
   "source": [
    "\n",
    "Заполните пропуски, где это уместно. Опишите, почему вы решили заполнить пропуски именно в этих столбцах и как выбрали значения.\n",
    "Укажите причины, которые могли привести к пропускам в данных.\n",
    "Приведите данные к нужным типам:\n",
    "Поясните, в каких столбцах нужно изменить тип данных и почему.\n",
    "___________________________________________________________________________________________________________________________\n",
    "\n",
    "Сначала заменила значения Nan в столбце балконы на 0-так как этих балконов нет.\n",
    "Потеря данных технологическая -неправильный выгруз и человеческий фактор-неправильно внесенные данные.\n",
    "\n",
    "некорректные значения меняем на нан"
   ]
  },
  {
   "cell_type": "code",
   "execution_count": 6,
   "id": "88577156",
   "metadata": {},
   "outputs": [
    {
     "name": "stdout",
     "output_type": "stream",
     "text": [
      "1.0    4195\n",
      "0.0    3758\n",
      "2.0    3659\n",
      "5.0     304\n",
      "4.0     183\n",
      "3.0      81\n",
      "Name: balcony, dtype: int64\n"
     ]
    }
   ],
   "source": [
    "print(df['balcony'].value_counts())\n",
    "df['balcony']=df['balcony'].fillna('0')"
   ]
  },
  {
   "cell_type": "code",
   "execution_count": 12,
   "id": "ee232d63",
   "metadata": {},
   "outputs": [
    {
     "name": "stdout",
     "output_type": "stream",
     "text": [
      "False    2725\n",
      "True       50\n",
      "Name: is_apartment, dtype: int64\n",
      "   total_images  last_price  total_area first_day_exposition  rooms  \\\n",
      "0            20    13000000         108  2019-03-07T00:00:00      3   \n",
      "1             7     3350000          40  2018-12-04T00:00:00      1   \n",
      "2            10     5196000          56  2015-08-20T00:00:00      2   \n",
      "3             0    64900000         159  2015-07-24T00:00:00      3   \n",
      "4             2    10000000         100  2018-06-19T00:00:00      2   \n",
      "\n",
      "   ceiling_height  floors_total  living_area  floor is_apartment  ...  \\\n",
      "0            2.70          16.0         51.0      8          NaN  ...   \n",
      "1             NaN          11.0         18.6      1          NaN  ...   \n",
      "2             NaN           5.0         34.3      4          NaN  ...   \n",
      "3             NaN          14.0          NaN      9          NaN  ...   \n",
      "4            3.03          14.0         32.0     13          NaN  ...   \n",
      "\n",
      "   kitchen_area  balcony    locality_name airports_nearest  \\\n",
      "0          25.0        0  санкт-петербург          18863.0   \n",
      "1          11.0      2.0   посёлок шушары          12817.0   \n",
      "2           8.3      0.0  санкт-петербург          21741.0   \n",
      "3           NaN      0.0  санкт-петербург          28098.0   \n",
      "4          41.0        0  санкт-петербург          31856.0   \n",
      "\n",
      "  cityCenters_nearest  parks_around3000  parks_nearest  ponds_around3000  \\\n",
      "0             16028.0               1.0          482.0               2.0   \n",
      "1             18603.0               0.0            NaN               0.0   \n",
      "2             13933.0               1.0           90.0               2.0   \n",
      "3              6800.0               2.0           84.0               3.0   \n",
      "4              8098.0               2.0          112.0               1.0   \n",
      "\n",
      "   ponds_nearest  days_exposition  \n",
      "0          755.0              NaN  \n",
      "1            NaN             81.0  \n",
      "2          574.0            558.0  \n",
      "3          234.0            424.0  \n",
      "4           48.0            121.0  \n",
      "\n",
      "[5 rows x 22 columns]\n",
      "<class 'pandas.core.frame.DataFrame'>\n",
      "RangeIndex: 23699 entries, 0 to 23698\n",
      "Data columns (total 22 columns):\n",
      " #   Column                Non-Null Count  Dtype  \n",
      "---  ------                --------------  -----  \n",
      " 0   total_images          23699 non-null  int64  \n",
      " 1   last_price            23699 non-null  int32  \n",
      " 2   total_area            23699 non-null  int32  \n",
      " 3   first_day_exposition  23699 non-null  object \n",
      " 4   rooms                 23699 non-null  int64  \n",
      " 5   ceiling_height        14504 non-null  float64\n",
      " 6   floors_total          23613 non-null  float64\n",
      " 7   living_area           21796 non-null  float64\n",
      " 8   floor                 23699 non-null  int64  \n",
      " 9   is_apartment          2775 non-null   object \n",
      " 10  studio                23699 non-null  bool   \n",
      " 11  open_plan             23699 non-null  bool   \n",
      " 12  kitchen_area          21421 non-null  float64\n",
      " 13  balcony               23699 non-null  object \n",
      " 14  locality_name         23650 non-null  object \n",
      " 15  airports_nearest      18157 non-null  float64\n",
      " 16  cityCenters_nearest   18180 non-null  float64\n",
      " 17  parks_around3000      18181 non-null  float64\n",
      " 18  parks_nearest         8079 non-null   float64\n",
      " 19  ponds_around3000      18181 non-null  float64\n",
      " 20  ponds_nearest         9110 non-null   float64\n",
      " 21  days_exposition       20518 non-null  float64\n",
      "dtypes: bool(2), float64(11), int32(2), int64(3), object(4)\n",
      "memory usage: 3.1+ MB\n"
     ]
    }
   ],
   "source": [
    "df['last_price']=df['last_price'].astype('int')\n",
    "df['total_area']=df['total_area'].astype('int')\n",
    "\n",
    "df['locality_name']=df['locality_name'].str.lower()\n",
    "\n",
    "print(df['is_apartment'].value_counts())\n",
    "\n",
    "print(df.head())\n",
    "df.info()\n"
   ]
  },
  {
   "cell_type": "markdown",
   "id": "423b9b9c",
   "metadata": {},
   "source": [
    "Вывела таблицу инфо-чтобы посмотреть какие данные отсутвуют. Методом филлна заполнила данные Nan средним или медианным значениями. Определяла так-если по бокам скопление крупных а потом мелких значений-медиана-так есть вбросы. Если данные вразнобой-среднее. Опять таблица инфо-для проверки."
   ]
  },
  {
   "cell_type": "code",
   "execution_count": 19,
   "id": "4dbf4167",
   "metadata": {},
   "outputs": [
    {
     "name": "stdout",
     "output_type": "stream",
     "text": [
      "   total_images  last_price  total_area first_day_exposition  rooms  \\\n",
      "0            20    13000000         108  2019-03-07T00:00:00      3   \n",
      "1             7     3350000          40  2018-12-04T00:00:00      1   \n",
      "2            10     5196000          56  2015-08-20T00:00:00      2   \n",
      "3             0    64900000         159  2015-07-24T00:00:00      3   \n",
      "4             2    10000000         100  2018-06-19T00:00:00      2   \n",
      "\n",
      "   ceiling_height  floors_total  living_area  floor is_apartment  ...  \\\n",
      "0        2.700000          16.0    51.000000      8               ...   \n",
      "1        2.771499          11.0    18.600000      1               ...   \n",
      "2        2.771499           5.0    34.300000      4               ...   \n",
      "3        2.771499          14.0     2.771499      9               ...   \n",
      "4        3.030000          14.0    32.000000     13               ...   \n",
      "\n",
      "   kitchen_area  balcony    locality_name airports_nearest  \\\n",
      "0          25.0        0  санкт-петербург          18863.0   \n",
      "1          11.0      2.0   посёлок шушары          12817.0   \n",
      "2           8.3      0.0  санкт-петербург          21741.0   \n",
      "3           9.1      0.0  санкт-петербург          28098.0   \n",
      "4          41.0        0  санкт-петербург          31856.0   \n",
      "\n",
      "  cityCenters_nearest  parks_around3000  parks_nearest  ponds_around3000  \\\n",
      "0             16028.0               1.0          482.0               2.0   \n",
      "1             18603.0               0.0          455.0               0.0   \n",
      "2             13933.0               1.0           90.0               2.0   \n",
      "3              6800.0               2.0           84.0               3.0   \n",
      "4              8098.0               2.0          112.0               1.0   \n",
      "\n",
      "   ponds_nearest  days_exposition  \n",
      "0          755.0             95.0  \n",
      "1          502.0             81.0  \n",
      "2          574.0            558.0  \n",
      "3          234.0            424.0  \n",
      "4           48.0            121.0  \n",
      "\n",
      "[5 rows x 22 columns]\n",
      "<class 'pandas.core.frame.DataFrame'>\n",
      "RangeIndex: 23699 entries, 0 to 23698\n",
      "Data columns (total 22 columns):\n",
      " #   Column                Non-Null Count  Dtype  \n",
      "---  ------                --------------  -----  \n",
      " 0   total_images          23699 non-null  int64  \n",
      " 1   last_price            23699 non-null  int32  \n",
      " 2   total_area            23699 non-null  int32  \n",
      " 3   first_day_exposition  23699 non-null  object \n",
      " 4   rooms                 23699 non-null  int64  \n",
      " 5   ceiling_height        23699 non-null  float64\n",
      " 6   floors_total          23699 non-null  float64\n",
      " 7   living_area           23699 non-null  float64\n",
      " 8   floor                 23699 non-null  int64  \n",
      " 9   is_apartment          23699 non-null  object \n",
      " 10  studio                23699 non-null  bool   \n",
      " 11  open_plan             23699 non-null  bool   \n",
      " 12  kitchen_area          23699 non-null  float64\n",
      " 13  balcony               23699 non-null  object \n",
      " 14  locality_name         23699 non-null  object \n",
      " 15  airports_nearest      23699 non-null  float64\n",
      " 16  cityCenters_nearest   23699 non-null  float64\n",
      " 17  parks_around3000      23699 non-null  float64\n",
      " 18  parks_nearest         23699 non-null  float64\n",
      " 19  ponds_around3000      23699 non-null  float64\n",
      " 20  ponds_nearest         23699 non-null  float64\n",
      " 21  days_exposition       23699 non-null  float64\n",
      "dtypes: bool(2), float64(11), int32(2), int64(3), object(4)\n",
      "memory usage: 3.1+ MB\n"
     ]
    }
   ],
   "source": [
    "age_ceiling_height=df['ceiling_height'].mean()\n",
    "df['ceiling_height']=df['ceiling_height'].fillna(age_ceiling_height)\n",
    "\n",
    "age_floors_total=df['floors_total'].median()\n",
    "df['floors_total']=df['floors_total'].fillna(age_floors_total)\n",
    "\n",
    "\n",
    "age_living_area=df['living_area'].mean()\n",
    "df['living_area']=df['living_area'].fillna(age_ceiling_height)\n",
    "\n",
    "\n",
    "\n",
    "age_airports_nearest=df['airports_nearest'].mean()\n",
    "df['airports_nearest']=df['airports_nearest'].fillna(age_airports_nearest)\n",
    "\n",
    "\n",
    "age_cityCenters_nearest=df['cityCenters_nearest'].median()\n",
    "df['cityCenters_nearest']=df['cityCenters_nearest'].fillna(age_cityCenters_nearest)\n",
    "\n",
    "\n",
    "age_parks_around3000 =df['parks_around3000'].mean()\n",
    "df['parks_around3000']=df['parks_around3000'].fillna(age_parks_around3000 )                                                 \n",
    " \n",
    "\n",
    "age_parks_nearest=df['parks_nearest'].median()\n",
    "df['parks_nearest']=df['parks_nearest'].fillna(age_parks_nearest)\n",
    "\n",
    "\n",
    "\n",
    "age_ponds_around3000 =df['ponds_around3000'].mean()\n",
    "df['ponds_around3000']=df['ponds_around3000'].fillna(age_ponds_around3000)    \n",
    "   \n",
    "\n",
    "age_ponds_nearest=df['ponds_nearest'].median()\n",
    "df['ponds_nearest']=df['ponds_nearest'].fillna(age_ponds_nearest)\n",
    "\n",
    "age_days_exposition =df['days_exposition'].median()\n",
    "df['days_exposition']=df['days_exposition'].fillna(age_days_exposition)\n",
    "\n",
    "age_kitchen_area = df['kitchen_area'].median()\n",
    "df['kitchen_area'] = df['kitchen_area'].fillna(age_kitchen_area)\n",
    "\n",
    "\n",
    "df['locality_name']=df['locality_name'].fillna('')\n",
    "df['is_apartment']=df['is_apartment'].fillna('')  \n",
    "    \n",
    "print(df.head())\n",
    "df.info()"
   ]
  },
  {
   "cell_type": "markdown",
   "id": "608511af",
   "metadata": {},
   "source": [
    "Шаг 3. Посчитайте и добавьте в таблицу:\n",
    "\n",
    "день недели, месяц и год публикации объявления - day, year, month\n",
    "\n",
    "цену квадратного метра- price_metr\n",
    "\n",
    "этаж квартиры - floor_category\n",
    "\n",
    "соотношение жилой и общей площади - zilaya_plosad\n",
    "\n",
    "отношение площади кухни к общей - kuhna_plosad"
   ]
  },
  {
   "cell_type": "code",
   "execution_count": 21,
   "id": "ea33a882",
   "metadata": {},
   "outputs": [
    {
     "name": "stdout",
     "output_type": "stream",
     "text": [
      "0   2019-03-07\n",
      "1   2018-12-04\n",
      "2   2015-08-20\n",
      "3   2015-07-24\n",
      "4   2018-06-19\n",
      "Name: first_day_exposition, dtype: datetime64[ns]\n",
      "   total_images  last_price  total_area first_day_exposition  rooms  \\\n",
      "0            20    13000000         108           2019-03-07      3   \n",
      "1             7     3350000          40           2018-12-04      1   \n",
      "2            10     5196000          56           2015-08-20      2   \n",
      "3             0    64900000         159           2015-07-24      3   \n",
      "4             2    10000000         100           2018-06-19      2   \n",
      "\n",
      "   ceiling_height  floors_total  living_area  floor is_apartment  ...  \\\n",
      "0        2.700000          16.0    51.000000      8               ...   \n",
      "1        2.771499          11.0    18.600000      1               ...   \n",
      "2        2.771499           5.0    34.300000      4               ...   \n",
      "3        2.771499          14.0     2.771499      9               ...   \n",
      "4        3.030000          14.0    32.000000     13               ...   \n",
      "\n",
      "   ponds_around3000  ponds_nearest  days_exposition       day  year  month  \\\n",
      "0               2.0          755.0             95.0  Thursday  2019      3   \n",
      "1               0.0          502.0             81.0   Tuesday  2018     12   \n",
      "2               2.0          574.0            558.0  Thursday  2015      8   \n",
      "3               3.0          234.0            424.0    Friday  2015      7   \n",
      "4               1.0           48.0            121.0   Tuesday  2018      6   \n",
      "\n",
      "   price_metr  floor_category  zilaya_plosad  kuhna_plosad  \n",
      "0      120370          другой       0.472222      0.231481  \n",
      "1       83750          первый       0.465000      0.275000  \n",
      "2       92785          другой       0.612500      0.148214  \n",
      "3      408176          другой       0.017431      0.057233  \n",
      "4      100000          другой       0.320000      0.410000  \n",
      "\n",
      "[5 rows x 29 columns]\n",
      "0    120370\n",
      "1     83750\n",
      "2     92785\n",
      "3    408176\n",
      "4    100000\n",
      "Name: price_metr, dtype: int32\n",
      "0    другой\n",
      "1    первый\n",
      "2    другой\n",
      "3    другой\n",
      "4    другой\n",
      "Name: floor_category, dtype: object\n",
      "0    0.472222\n",
      "1    0.465000\n",
      "2    0.612500\n",
      "3    0.017431\n",
      "4    0.320000\n",
      "Name: zilaya_plosad, dtype: float64\n",
      "0    0.231481\n",
      "1    0.275000\n",
      "2    0.148214\n",
      "3    0.057233\n",
      "4    0.410000\n",
      "Name: kuhna_plosad, dtype: float64\n"
     ]
    }
   ],
   "source": [
    "print(df['first_day_exposition'].head())\n",
    "\n",
    "df['first_day_exposition']=pd.to_datetime(df['first_day_exposition'])\n",
    "\n",
    "df['day']= df['first_day_exposition'].dt.day\n",
    "df['year']= df['first_day_exposition'].dt.year\n",
    "df['month']= df['first_day_exposition'].dt.month\n",
    "dw_mapping={\n",
    "    0: 'Monday', \n",
    "    1: 'Tuesday', \n",
    "    2: 'Wednesday', \n",
    "    3: 'Thursday', \n",
    "    4: 'Friday',\n",
    "    5: 'Saturday', \n",
    "    6: 'Sunday'\n",
    "} \n",
    "df['day']=df['first_day_exposition'].dt.weekday.map(dw_mapping)\n",
    "print(df.head())\n",
    "\n",
    "\n",
    "def price(XXX):\n",
    "    price_metr=XXX['last_price']/XXX['total_area']\n",
    "    return price_metr\n",
    "df['price_metr']=df.apply(price, axis=1)\n",
    "\n",
    "df['price_metr']=df['price_metr'].astype('int')\n",
    "print(df['price_metr'].head())\n",
    "\n",
    "\n",
    "def floorsss(YYY):\n",
    "    if YYY['floor']==1:\n",
    "        return 'первый'\n",
    "    elif YYY['floors_total']=='floors_total':\n",
    "        return 'последний'\n",
    "    else:\n",
    "        return 'другой'\n",
    "df['floor_category']=df.apply(floorsss, axis=1)\n",
    "print(df['floor_category'].head())\n",
    "\n",
    "\n",
    "def poleznaya(CCC):\n",
    "    zilaya_plosad=CCC['living_area']/CCC['total_area']\n",
    "    return zilaya_plosad\n",
    "df['zilaya_plosad']=df.apply(poleznaya, axis=1)\n",
    "print(df['zilaya_plosad'].head())\n",
    "\n",
    "\n",
    "def kuhna(DDD):\n",
    "    kuhna_plosad=DDD['kitchen_area']/DDD['total_area']\n",
    "    return kuhna_plosad\n",
    "df['kuhna_plosad']=df.apply(kuhna, axis=1)\n",
    "print(df['kuhna_plosad'].head())\n",
    "\n"
   ]
  },
  {
   "cell_type": "markdown",
   "id": "0e3f3ccf",
   "metadata": {},
   "source": [
    "Шаг 4. Проведите исследовательский анализ данных и выполните инструкции:\n",
    "\n",
    "Изучите следующие параметры: площадь, цена, число комнат, высота потолков. Постройте гистограммы для каждого параметра.\n",
    "\n",
    "total_area -— площадь квартиры в квадратных метрах (м²)\n",
    "price_metr - цена 1 кв.м\n",
    "rooms - число комнат\n",
    "ceiling_height - высота потолков\n",
    "____________________________________________________________________________________________________________________\n",
    "1.Когда мы изучаем какой то параметр-мы сначала находим его уникальные значения и как часто они появляются value_counts().\n",
    "По оси ординат-будет количество , а по оси абсцисс-значения. График-гистрограмма-метод .hist()\n",
    "Для каждого значения найдем уникальные значения и их количества чтобы гистрограмма была информативная и мы видели максимальные значения столбцов.\n",
    "По графику видно что больше 2-х комнатных и 3-х комнатных квартир. Самые высокие потолки в 2-х комнатных квартирах.\n",
    "То есть по вертикальной прямой стоит количество, а по оси х-значения.\n",
    "Методом дискрайб посмотрели описание-вбросов нет-медиана и среднее одинаковые.\n"
   ]
  },
  {
   "cell_type": "code",
   "execution_count": 25,
   "id": "d3d3c3cd",
   "metadata": {},
   "outputs": [
    {
     "name": "stdout",
     "output_type": "stream",
     "text": [
      "1    8047\n",
      "2    7940\n",
      "3    5814\n",
      "4    1180\n",
      "5     326\n",
      "Name: rooms, dtype: int64\n",
      "2.771499    9195\n",
      "2.500000    3515\n",
      "2.600000    1646\n",
      "2.700000    1574\n",
      "3.000000    1112\n",
      "Name: ceiling_height, dtype: int64\n"
     ]
    },
    {
     "data": {
      "text/plain": [
       "<AxesSubplot:>"
      ]
     },
     "execution_count": 25,
     "metadata": {},
     "output_type": "execute_result"
    },
    {
     "data": {
      "image/png": "[encoded data removed]",
      "text/plain": [
       "<Figure size 432x288 with 1 Axes>"
      ]
     },
     "metadata": {
      "needs_background": "light"
     },
     "output_type": "display_data"
    }
   ],
   "source": [
    "print(df['rooms'].value_counts().head())\n",
    "print(df['ceiling_height'].value_counts().head())\n",
    "\n",
    "df['rooms'].hist(range=(0,10), bins=10)\n",
    "df['ceiling_height'].hist(range=(0,10), bins=10)\n"
   ]
  },
  {
   "cell_type": "markdown",
   "id": "e20dca73",
   "metadata": {},
   "source": [
    "Размер квартир чаще 43-45 метров."
   ]
  },
  {
   "cell_type": "code",
   "execution_count": 31,
   "id": "d370d6f4",
   "metadata": {},
   "outputs": [
    {
     "name": "stdout",
     "output_type": "stream",
     "text": [
      "45    763\n",
      "44    697\n",
      "42    657\n",
      "31    645\n",
      "35    569\n",
      "Name: total_area, dtype: int64\n"
     ]
    },
    {
     "data": {
      "text/plain": [
       "<AxesSubplot:>"
      ]
     },
     "execution_count": 31,
     "metadata": {},
     "output_type": "execute_result"
    },
    {
     "data": {
      "image/png": "[encoded data removed]",
      "text/plain": [
       "<Figure size 432x288 with 1 Axes>"
      ]
     },
     "metadata": {
      "needs_background": "light"
     },
     "output_type": "display_data"
    }
   ],
   "source": [
    "print(df['total_area'].value_counts().head())\n",
    "df['total_area'].hist(range=(0,100), bins=100)\n"
   ]
  },
  {
   "cell_type": "markdown",
   "id": "a6061a15",
   "metadata": {},
   "source": [
    "Цена квадратного метра-'price_metr'"
   ]
  },
  {
   "cell_type": "code",
   "execution_count": 34,
   "id": "65e97322",
   "metadata": {},
   "outputs": [
    {
     "name": "stdout",
     "output_type": "stream",
     "text": [
      "100000    445\n",
      "83333      97\n",
      "75000      86\n",
      "90000      85\n",
      "80000      81\n",
      "Name: price_metr, dtype: int64\n"
     ]
    },
    {
     "data": {
      "text/plain": [
       "count    2.369900e+04\n",
       "mean     9.987371e+04\n",
       "std      5.041842e+04\n",
       "min      1.110000e+02\n",
       "25%      7.698500e+04\n",
       "50%      9.545400e+04\n",
       "75%      1.148640e+05\n",
       "max      1.907500e+06\n",
       "Name: price_metr, dtype: float64"
      ]
     },
     "execution_count": 34,
     "metadata": {},
     "output_type": "execute_result"
    },
    {
     "data": {
      "image/png": "[encoded data removed]",
      "text/plain": [
       "<Figure size 432x288 with 1 Axes>"
      ]
     },
     "metadata": {
      "needs_background": "light"
     },
     "output_type": "display_data"
    }
   ],
   "source": [
    "print(df['price_metr'].value_counts().head())\n",
    "df['price_metr'].hist(bins=100)\n",
    "df['price_metr'].describe()"
   ]
  },
  {
   "cell_type": "markdown",
   "id": "e8ff0fc5",
   "metadata": {},
   "source": [
    "4.Изучите время продажи квартиры. Постройте гистограмму. Посчитайте среднее и медиану. Опишите, сколько обычно занимает продажа. Когда можно считать, что продажи прошли очень быстро, а когда необычно долго? - — сколько дней было размещено объявление (от публикации до снятия)\n",
    "\n",
    "Изучите время продажи квартиры. Постройте гистограмму. Посчитайте среднее и медиану. Опишите, сколько обычно занимает продажа. Когда можно считать, что продажи прошли очень быстро, а когда необычно долго.\n",
    "\n",
    "По гистограмме видно что есть вбросы. Это же видно по методу дискрайб. Поэтому за настоящее значение-берем медианну-а не среднее. Обычно  продается 95 дней. Среднее значение-mean-169- в 2 раза практически больше - median-95- это значит есть хвосты со значениями.Короче значения меньше 95 дней-быстро продаются, а больше медианны 95 дней-медленно. \n",
    "Изучили-есть вбросы. Увидели их и подсчетом медиана и среднего и методом дискрайб и графиком.\n"
   ]
  },
  {
   "cell_type": "code",
   "execution_count": 35,
   "id": "fabbae3a",
   "metadata": {},
   "outputs": [
    {
     "name": "stdout",
     "output_type": "stream",
     "text": [
      "95.0    3245\n",
      "45.0     880\n",
      "60.0     538\n",
      "7.0      234\n",
      "30.0     208\n",
      "90.0     204\n",
      "4.0      176\n",
      "3.0      158\n",
      "5.0      152\n",
      "14.0     148\n",
      "Name: days_exposition, dtype: int64\n",
      "169.36022616988058\n",
      "95.0\n"
     ]
    },
    {
     "data": {
      "text/plain": [
       "count    23699.000000\n",
       "mean       169.360226\n",
       "std        206.535633\n",
       "min          1.000000\n",
       "25%         45.000000\n",
       "50%         95.000000\n",
       "75%        199.000000\n",
       "max       1580.000000\n",
       "Name: days_exposition, dtype: float64"
      ]
     },
     "execution_count": 35,
     "metadata": {},
     "output_type": "execute_result"
    },
    {
     "data": {
      "image/png": "[encoded data removed]",
      "text/plain": [
       "<Figure size 432x288 with 1 Axes>"
      ]
     },
     "metadata": {
      "needs_background": "light"
     },
     "output_type": "display_data"
    }
   ],
   "source": [
    "print(df['days_exposition'].value_counts().head(10))\n",
    "\n",
    "df['days_exposition'].hist(range=(0,100), bins=100)\n",
    "\n",
    "days_exposition_avg=df['days_exposition'].mean()\n",
    "print(days_exposition_avg)\n",
    "days_exposition_mediana=df['days_exposition'].median()\n",
    "print(days_exposition_mediana)\n",
    "\n",
    "df['days_exposition'].describe()"
   ]
  },
  {
   "cell_type": "markdown",
   "id": "01b0e30e",
   "metadata": {},
   "source": [
    "Шаг 4. Проведите исследовательский анализ данных и выполните инструкции:\n",
    "\n",
    "Уберите редкие и выбивающиеся значения. Опишите, какие особенности обнаружили.\n",
    "Какие факторы больше всего влияют на стоимость квартиры? Изучите, зависит ли цена от площади, числа комнат, удалённости от центра. Изучите зависимость цены от того, на каком этаже расположена квартира: первом, последнем или другом. Также изучите зависимость от даты размещения: дня недели, месяца и года.\n",
    "\n",
    "---------------------------------------------------------------------------------------------------------------------------\n",
    "\n",
    "Отфильтруем время продаж квартир - days_exposition- методом .query. Метод отсечения-для получения нужного среза-применяется ко всей таблице - df. Таким образом убрали вбросы.\n",
    "\n",
    "Зависит на каком  этаже-последние-выше цена.\n",
    "\n",
    "Цена квадратного метра не зависит от квадратуры квартиры. Слабо зависит цена 1 кв.м. от квадратуры жилой площади в квартире.\n",
    "\n",
    "Цена зависит от месяца продажи-в летние месяца-когда люди тратят деньги на отдых-цена квартир ниже.\n",
    "На декабрь и январь-цена ниже-возможно люди ждут ставки по ипотеке-более выгодные.\n",
    "\n",
    "День недели-суббота и воскресенье-дешевле-выходные.\n",
    "\n",
    "С каждым годом недвижимость дешевеет. Еще немного и квадратный метр  в России будет стоить как картошка на базаре. \n",
    "\n",
    "От удаленности от центра -зависит. В Питере цена выше чем в деревнях и населеных пунктах.\n",
    "\n"
   ]
  },
  {
   "cell_type": "code",
   "execution_count": 37,
   "id": "e4c7e94a",
   "metadata": {},
   "outputs": [
    {
     "name": "stdout",
     "output_type": "stream",
     "text": [
      "       total_images  last_price  total_area first_day_exposition  rooms  \\\n",
      "12971            19   763000000         400           2017-09-30      7   \n",
      "22831            18   289238400         187           2019-03-19      2   \n",
      "4996             20   124000000         124           2017-10-12      4   \n",
      "4859             16    28000000          33           2019-04-29      1   \n",
      "17172            14    28000000          33           2019-04-30      1   \n",
      "17912            17   135000000         166           2019-02-07      3   \n",
      "8322             20    39900000          55           2017-10-26      1   \n",
      "19155            20   160000000         243           2018-11-12      5   \n",
      "21238             1    24412900          38           2018-06-27      1   \n",
      "16590            10    98000000         155           2017-12-16      3   \n",
      "\n",
      "       ceiling_height  floors_total  living_area  floor is_apartment  ...  \\\n",
      "12971        2.771499          10.0   250.000000     10               ...   \n",
      "22831        3.370000           6.0    63.700000      6               ...   \n",
      "4996         3.000000           4.0    67.200000      2        False  ...   \n",
      "4859         3.500000           5.0     2.771499      2               ...   \n",
      "17172        3.500000           5.0     2.771499      2               ...   \n",
      "17912        3.300000           7.0    52.000000      1               ...   \n",
      "8322         3.050000           6.0    35.000000      4               ...   \n",
      "19155        2.771499           5.0   145.000000      4               ...   \n",
      "21238        2.771499          10.0    16.830000      4        False  ...   \n",
      "16590        2.771499           8.0     2.771499      6               ...   \n",
      "\n",
      "       ponds_around3000  ponds_nearest  days_exposition        day  year  \\\n",
      "12971          3.000000          756.0             33.0   Saturday  2017   \n",
      "22831          3.000000          188.0             95.0    Tuesday  2019   \n",
      "4996           3.000000          172.0             45.0   Thursday  2017   \n",
      "4859           3.000000          119.0             95.0     Monday  2019   \n",
      "17172          3.000000           27.0             95.0    Tuesday  2019   \n",
      "17912          3.000000          215.0             95.0   Thursday  2019   \n",
      "8322           3.000000          202.0             95.0   Thursday  2017   \n",
      "19155          1.000000          200.0             18.0     Monday  2018   \n",
      "21238          0.770255          502.0             44.0  Wednesday  2018   \n",
      "16590          2.000000          198.0             90.0   Saturday  2017   \n",
      "\n",
      "       month  price_metr  floor_category  zilaya_plosad  kuhna_plosad  \n",
      "12971      9     1907500          другой       0.625000      0.022750  \n",
      "22831      3     1546729          другой       0.340642      0.161497  \n",
      "4996      10     1000000          другой       0.541935      0.161290  \n",
      "4859       4      848484          другой       0.083985      0.275758  \n",
      "17172      4      848484          другой       0.083985      0.275758  \n",
      "17912      2      813253          первый       0.313253      0.385542  \n",
      "8322      10      725454          другой       0.636364      0.145455  \n",
      "19155     11      658436          другой       0.596708      0.135802  \n",
      "21238      6      642444          другой       0.442895      0.281579  \n",
      "16590     12      632258          другой       0.017881      0.058710  \n",
      "\n",
      "[10 rows x 29 columns]\n",
      "                   price_metr\n",
      "floor_category               \n",
      "другой          102230.274256\n",
      "первый           84281.898261\n",
      "               price_metr\n",
      "total_area               \n",
      "13          188102.000000\n",
      "14           85000.000000\n",
      "15          131110.666667\n",
      "16          131250.000000\n",
      "17          105690.750000\n",
      "                price_metr\n",
      "living_area               \n",
      "2.000000     111709.500000\n",
      "2.771499      96855.043732\n",
      "5.000000     121818.000000\n",
      "5.400000      79220.000000\n",
      "6.500000     122727.000000\n",
      "8.000000     178000.000000\n",
      "8.300000     190476.000000\n",
      "8.500000     117142.000000\n",
      "9.000000     148860.750000\n",
      "9.800000     115217.000000\n",
      "              price_metr\n",
      "day                     \n",
      "Friday     100070.823712\n",
      "Monday     100336.200871\n",
      "Saturday    98707.581900\n",
      "Sunday      99569.987267\n",
      "Thursday   100820.847443\n",
      "Tuesday     99978.366374\n",
      "Wednesday  100549.385894\n",
      "         price_metr\n",
      "year               \n",
      "2014  153185.500000\n",
      "2015  138239.657143\n",
      "2016  100212.930269\n",
      "2017   96952.234413\n",
      "2018   97986.714952\n",
      "2019  107835.688330\n",
      "          price_metr\n",
      "month               \n",
      "1       98995.116122\n",
      "2      100407.105982\n",
      "3      101981.691857\n",
      "4      103952.808853\n",
      "5       98385.523894\n",
      "6       95883.050971\n",
      "7       98500.939720\n",
      "8      101104.182540\n",
      "9      100609.632579\n",
      "10      97992.212605\n",
      "11     100752.290236\n",
      "12      98459.512360\n",
      "                     price_metr\n",
      "cityCenters_nearest            \n",
      "181.0                  195591.0\n",
      "287.0                   88796.0\n",
      "291.0                  101769.0\n",
      "318.0                  454282.8\n",
      "329.0                  100000.0\n",
      "376.0                  137755.0\n",
      "387.0                  140625.0\n",
      "399.0                   90000.0\n",
      "410.0                   75471.0\n",
      "423.0                  188888.0\n"
     ]
    }
   ],
   "source": [
    "df_novaya=df.query('days_exposition <= days_exposition.median()')\n",
    "\n",
    "print(df_novaya.sort_values(by='price_metr',ascending=False).head(10))\n",
    "\n",
    "df_novaya_floor=df_novaya.pivot_table(index='floor_category', values='price_metr')\n",
    "print(df_novaya_floor.head())\n",
    "\n",
    "df_total_area=df_novaya.pivot_table(index='total_area', values='price_metr')\n",
    "print(df_total_area.head())\n",
    "df_living_area=df_novaya.pivot_table(index='living_area', values='price_metr')\n",
    "print(df_living_area.head(10))\n",
    "\n",
    "df_day=df_novaya.pivot_table(index='day', values='price_metr')\n",
    "df_year=df_novaya.pivot_table(index='year', values='price_metr')\n",
    "df_month=df_novaya.pivot_table(index='month', values='price_metr')\n",
    "print(df_day.head(12))\n",
    "print(df_year.head(12))\n",
    "print(df_month.head(12))\n",
    "\n",
    "df_city=df_novaya.pivot_table(index='cityCenters_nearest', values='price_metr')\n",
    "print(df_city.head(10))\n"
   ]
  },
  {
   "cell_type": "markdown",
   "id": "7d3d0949",
   "metadata": {},
   "source": [
    "Выберите 10 населённых пунктов с наибольшим числом объявлений. Посчитайте среднюю цену квадратного метра в этих населённых пунктах. Выделите среди них населённые пункты с самой высокой и низкой стоимостью жилья. Эти данные можно найти по имени в столбце locality_name.\n",
    "\n",
    "-----------------------------------------------------------------------------------------------------------------------------\n",
    "Сначала отсортировали таблицу-чтобы посмотреть максимальную и минимальную величину-это 30-50.\n",
    "Потом сделали срез по этим параметрам.\n",
    "Потом методом .pivot_table-посмотрели зависимость 2-х величин.\n"
   ]
  },
  {
   "cell_type": "code",
   "execution_count": 40,
   "id": "b9ac5b53",
   "metadata": {},
   "outputs": [
    {
     "name": "stdout",
     "output_type": "stream",
     "text": [
      "       total_images  last_price  total_area first_day_exposition  rooms  \\\n",
      "9778             50    11000000          87           2017-10-25      2   \n",
      "12667            50    20500000          76           2017-12-10      3   \n",
      "21199            37    11500000          65           2018-02-01      2   \n",
      "308              35     5700000          83           2018-02-01      3   \n",
      "10523            35    17000000          90           2017-11-10      3   \n",
      "21076            32     8300000          84           2017-11-11      3   \n",
      "22517            31     9000000          82           2018-02-22      3   \n",
      "5349             31    11990000          92           2017-12-07      3   \n",
      "3455             30     3570000          38           2017-11-10      1   \n",
      "20280            30     8800000          97           2017-10-05      3   \n",
      "\n",
      "       ceiling_height  floors_total  living_area  floor is_apartment  ...  \\\n",
      "9778         2.771499          25.0         32.5     11               ...   \n",
      "12667        2.771499          20.0         47.0     16               ...   \n",
      "21199        2.771499          25.0         23.0     10               ...   \n",
      "308          2.600000           5.0         51.8      2               ...   \n",
      "10523        2.771499          16.0         52.0      6               ...   \n",
      "21076        2.771499          14.0         49.9      3               ...   \n",
      "22517        3.000000           5.0         52.7      5               ...   \n",
      "5349         2.771499          25.0         51.4     22               ...   \n",
      "3455         2.771499          12.0         20.0      4               ...   \n",
      "20280        2.771499          22.0         47.4      9               ...   \n",
      "\n",
      "       ponds_around3000  ponds_nearest  days_exposition        day  year  \\\n",
      "9778           0.000000          502.0              3.0  Wednesday  2017   \n",
      "12667          0.000000          502.0              5.0     Sunday  2017   \n",
      "21199          0.000000          502.0             64.0   Thursday  2018   \n",
      "308            0.000000          502.0             47.0   Thursday  2018   \n",
      "10523          1.000000          113.0             35.0     Friday  2017   \n",
      "21076          0.770255          502.0             60.0   Saturday  2017   \n",
      "22517          1.000000          691.0             95.0   Thursday  2018   \n",
      "5349           1.000000          700.0             47.0   Thursday  2017   \n",
      "3455           0.000000          502.0             74.0     Friday  2017   \n",
      "20280          1.000000          390.0             11.0   Thursday  2017   \n",
      "\n",
      "       month  price_metr  floor_category  zilaya_plosad  kuhna_plosad  \n",
      "9778      10      126436          другой       0.373563      0.356322  \n",
      "12667     12      269736          другой       0.618421      0.381579  \n",
      "21199      2      176923          другой       0.353846      0.323077  \n",
      "308        2       68674          другой       0.624096      0.115663  \n",
      "10523     11      188888          другой       0.577778      0.155556  \n",
      "21076     11       98809          другой       0.594048      0.134524  \n",
      "22517      2      109756          другой       0.642683      0.109756  \n",
      "5349      12      130326          другой       0.558696      0.163043  \n",
      "3455      11       93947          другой       0.526316      0.263158  \n",
      "20280     10       90721          другой       0.488660      0.175258  \n",
      "\n",
      "[10 rows x 29 columns]\n",
      "                      price_metr\n",
      "locality_name                   \n",
      "деревня кудрово     98809.000000\n",
      "деревня лопухинка   30158.000000\n",
      "красное село        68674.000000\n",
      "санкт-петербург    133258.615385\n"
     ]
    }
   ],
   "source": [
    "\n",
    "print(df_novaya.sort_values('total_images', ascending=False).head(10))\n",
    "df_reklama=df.query('total_images>=30 and total_images<=50')\n",
    "df_reklama_pivot=df_reklama.pivot_table(index=\"locality_name\", values='price_metr')\n",
    "print(df_reklama_pivot.head(15))\n"
   ]
  },
  {
   "cell_type": "markdown",
   "id": "9e7f9e09",
   "metadata": {},
   "source": [
    "Шаг 4. Проведите исследовательский анализ данных и выполните инструкции:\n",
    "\n",
    "Изучите предложения квартир: для каждой квартиры есть информация о расстоянии до центра. \n",
    "\n",
    "1.Выделите квартиры в Санкт-Петербурге (locality_name). \n",
    "\n",
    "3.После этого посчитайте среднюю цену для каждого километра. Постройте график: он должен показывать, как цена зависит от удалённости от центра. Определите границу, где график сильно меняется, — это и будет центральная зона.\n",
    "\n",
    "--------------------------------------------------------------------------------------------------------------------------\n",
    "Можно срез сделать и так-как индекс датафрейма-а не методом .query(). Обращаем внимание что название-санкт-петербург-приведен к нижнему регистру букв.\n"
   ]
  },
  {
   "cell_type": "code",
   "execution_count": 644,
   "id": "c1ff95ce",
   "metadata": {},
   "outputs": [
    {
     "name": "stdout",
     "output_type": "stream",
     "text": [
      "   total_images  last_price  total_area first_day_exposition  rooms  \\\n",
      "0            20    13000000         108           2019-03-07      3   \n",
      "2            10     5196000          56           2015-08-20      2   \n",
      "3             0    64900000         159           2015-07-24      3   \n",
      "4             2    10000000         100           2018-06-19      2   \n",
      "7             5     7915000          71           2019-04-18      2   \n",
      "\n",
      "   ceiling_height  floors_total  living_area  floor is_apartment  ...  \\\n",
      "0        2.700000          16.0    51.000000      8               ...   \n",
      "2        2.771499           5.0    34.300000      4               ...   \n",
      "3        2.771499          14.0     2.771499      9               ...   \n",
      "4        3.030000          14.0    32.000000     13               ...   \n",
      "7        2.771499          24.0     2.771499     22               ...   \n",
      "\n",
      "   ponds_around3000  ponds_nearest  days_exposition       day  year  month  \\\n",
      "0               2.0          755.0             95.0  Thursday  2019      3   \n",
      "2               2.0          574.0            558.0  Thursday  2015      8   \n",
      "3               3.0          234.0            424.0    Friday  2015      7   \n",
      "4               1.0           48.0            121.0   Tuesday  2018      6   \n",
      "7               0.0          502.0             95.0  Thursday  2019      4   \n",
      "\n",
      "   price_metr  floor_category  zilaya_plosad  kuhna_plosad  \n",
      "0      120370          другой       0.472222      0.231481  \n",
      "2       92785          другой       0.612500      0.148214  \n",
      "3      408176          другой       0.017431      0.057233  \n",
      "4      100000          другой       0.320000      0.410000  \n",
      "7      111478          другой       0.039035      0.266197  \n",
      "\n",
      "[5 rows x 29 columns]\n"
     ]
    }
   ],
   "source": [
    "print(df[df['locality_name']=='санкт-петербург'].head(5))\n"
   ]
  },
  {
   "cell_type": "markdown",
   "id": "4494dd9e",
   "metadata": {},
   "source": [
    "2.Ваша задача — выяснить, какая область входит в центр. Создайте столбец-'rastoyanie_do_zentra' - с расстоянием до центра в километрах: округлите до целых значений. cityCenters_nearest-расстояние до центра города (м).\n",
    "\n",
    "------------------------------------------------------------------------------------------------------------------------------\n",
    "Пишем функцию def - где значения столбца поделены на 1000-чтобы получить км."
   ]
  },
  {
   "cell_type": "code",
   "execution_count": 41,
   "id": "d33e2f97",
   "metadata": {},
   "outputs": [
    {
     "name": "stdout",
     "output_type": "stream",
     "text": [
      "0    16.028\n",
      "1    18.603\n",
      "2    13.933\n",
      "3     6.800\n",
      "4     8.098\n",
      "Name: rastoyanie_do_zentra, dtype: float64\n"
     ]
    }
   ],
   "source": [
    "def rastoyanie(fff):\n",
    "    rastoyanie_do_zentra=fff['cityCenters_nearest']/1000\n",
    "    return  rastoyanie_do_zentra\n",
    "df['rastoyanie_do_zentra']=df.apply(rastoyanie, axis=1)\n",
    "print(df['rastoyanie_do_zentra'].head())"
   ]
  },
  {
   "cell_type": "code",
   "execution_count": 42,
   "id": "3a9a151e",
   "metadata": {},
   "outputs": [
    {
     "name": "stdout",
     "output_type": "stream",
     "text": [
      "0    16\n",
      "1    18\n",
      "2    13\n",
      "3     6\n",
      "4     8\n",
      "Name: rastoyanie_do_zentra, dtype: int32\n"
     ]
    }
   ],
   "source": [
    "df['rastoyanie_do_zentra']=df['rastoyanie_do_zentra'].astype('int')\n",
    "print(df['rastoyanie_do_zentra'].head())"
   ]
  },
  {
   "cell_type": "code",
   "execution_count": 43,
   "id": "5f483646",
   "metadata": {},
   "outputs": [
    {
     "name": "stdout",
     "output_type": "stream",
     "text": [
      "                         price_metr\n",
      "rastoyanie_do_zentra               \n",
      "0                     187716.674419\n",
      "1                     166805.838843\n",
      "2                     147016.651466\n",
      "3                     129782.769811\n",
      "4                     137581.566594\n",
      "5                     147330.223377\n",
      "6                     152774.836170\n",
      "7                     141884.238329\n",
      "8                     120897.902367\n",
      "9                     110531.927850\n",
      "10                    112145.720701\n",
      "11                    107349.250177\n",
      "12                    108820.206987\n",
      "13                     71920.313105\n",
      "14                    105504.152778\n",
      "15                    102371.989803\n"
     ]
    }
   ],
   "source": [
    "df_rastoyanie_pivot=df.pivot_table(index='rastoyanie_do_zentra', values='price_metr')\n",
    "\n",
    "print(df_rastoyanie_pivot.head(16))"
   ]
  },
  {
   "cell_type": "markdown",
   "id": "f511f3d5",
   "metadata": {},
   "source": [
    "Чем дальше от центра-тем дешевле цена. С помощью метода  мы соединили 2 столбца и построили гистограмму. По ней видно что чем дальше от центра-тем выше цена.\n"
   ]
  },
  {
   "cell_type": "code",
   "execution_count": 45,
   "id": "a21d9bf9",
   "metadata": {},
   "outputs": [
    {
     "name": "stdout",
     "output_type": "stream",
     "text": [
      "13    6921\n",
      "12    1517\n",
      "14    1512\n",
      "11    1415\n",
      "15    1373\n",
      "Name: rastoyanie_do_zentra, dtype: int64\n",
      "100000    445\n",
      "83333      97\n",
      "75000      86\n",
      "90000      85\n",
      "80000      81\n",
      "Name: price_metr, dtype: int64\n",
      "                         price_metr\n",
      "rastoyanie_do_zentra               \n",
      "0                     187716.674419\n",
      "1                     166805.838843\n",
      "2                     147016.651466\n",
      "3                     129782.769811\n",
      "4                     137581.566594\n",
      "5                     147330.223377\n",
      "6                     152774.836170\n",
      "7                     141884.238329\n",
      "8                     120897.902367\n",
      "9                     110531.927850\n",
      "10                    112145.720701\n",
      "11                    107349.250177\n",
      "12                    108820.206987\n",
      "13                     71920.313105\n",
      "14                    105504.152778\n"
     ]
    },
    {
     "data": {
      "text/plain": [
       "array([[<AxesSubplot:title={'center':'price_metr'}>]], dtype=object)"
      ]
     },
     "execution_count": 45,
     "metadata": {},
     "output_type": "execute_result"
    },
    {
     "data": {
      "image/png": "[encoded data removed]",
      "text/plain": [
       "<Figure size 432x288 with 1 Axes>"
      ]
     },
     "metadata": {
      "needs_background": "light"
     },
     "output_type": "display_data"
    }
   ],
   "source": [
    "print(df['rastoyanie_do_zentra'].value_counts().head())\n",
    "print(df['price_metr'].value_counts().head())\n",
    "\n",
    "df_rastoyanie_zena=df.pivot_table(index='rastoyanie_do_zentra', values='price_metr')\n",
    "print(df_rastoyanie_zena.head(15))\n",
    "\n",
    "df_rastoyanie_zena.hist(bins=100)"
   ]
  },
  {
   "cell_type": "markdown",
   "id": "b394fa09",
   "metadata": {},
   "source": [
    "Выделите сегмент квартир в центре. Проанализируйте эту территорию и изучите следующие параметры: площадь, цена, число комнат, высота потолков. Также выделите факторы, которые влияют на стоимость квартиры (число комнат, этаж, удалённость от центра, дата размещения объявления). Сделайте выводы. Отличаются ли они от общих выводов по всей базе?\n",
    "\n",
    "-----------------------------------------------------------------------------------------------------------------\n",
    "Много квартир с растоянием от центра в 13 км. Это видно по количеству уникальных значений-вэлью каунтс и графику. \n",
    "Покупать квартиру лучше на удаление от цетра 13 км.-там больше кол-во предложений-поэтому и цена за 1 кв.м. ниже.-71920 средняя цена. Определили границу, где график сильно меняется, — это и есть центральная зона- до 13 км. удаленность от центра. ЕЕ и иследуем с помощью среза данных.\n"
   ]
  },
  {
   "cell_type": "code",
   "execution_count": 47,
   "id": "f9e5cc43",
   "metadata": {},
   "outputs": [
    {
     "name": "stdout",
     "output_type": "stream",
     "text": [
      "    total_images  last_price  total_area first_day_exposition  rooms  \\\n",
      "2             10     5196000          56           2015-08-20      2   \n",
      "3              0    64900000         159           2015-07-24      3   \n",
      "4              2    10000000         100           2018-06-19      2   \n",
      "5             10     2890000          30           2018-09-10      1   \n",
      "7              5     7915000          71           2019-04-18      2   \n",
      "8             20     2900000          33           2018-05-23      1   \n",
      "10             5     5050000          39           2017-11-16      1   \n",
      "12            10     3890000          54           2016-06-30      2   \n",
      "16            11     6700000          82           2017-11-23      3   \n",
      "18             8     3250000          31           2017-01-27      1   \n",
      "19            16    14200000         121           2019-01-09      3   \n",
      "21            13     3200000          31           2018-03-14      1   \n",
      "22            20     5000000          58           2017-04-24      2   \n",
      "24             8     6500000          97           2015-10-31      2   \n",
      "26             6     4050000          60           2017-04-28      4   \n",
      "\n",
      "    ceiling_height  floors_total  living_area  floor is_apartment  ...  \\\n",
      "2         2.771499           5.0    34.300000      4               ...   \n",
      "3         2.771499          14.0     2.771499      9               ...   \n",
      "4         3.030000          14.0    32.000000     13               ...   \n",
      "5         2.771499          12.0    14.400000      5               ...   \n",
      "7         2.771499          24.0     2.771499     22               ...   \n",
      "8         2.771499          27.0    15.430000     26               ...   \n",
      "10        2.670000          12.0    20.300000      3               ...   \n",
      "12        2.771499           5.0    30.000000      5               ...   \n",
      "16        3.050000           5.0    55.600000      1               ...   \n",
      "18        2.500000           5.0    19.400000      2               ...   \n",
      "19        2.750000          16.0    76.000000      8               ...   \n",
      "21        2.771499           5.0    16.900000      2               ...   \n",
      "22        2.750000          25.0    30.000000     15               ...   \n",
      "24        2.771499           3.0    46.500000      1               ...   \n",
      "26        2.771499           5.0    43.000000      4               ...   \n",
      "\n",
      "    ponds_nearest  days_exposition        day  year month  price_metr  \\\n",
      "2           574.0            558.0   Thursday  2015     8       92785   \n",
      "3           234.0            424.0     Friday  2015     7      408176   \n",
      "4            48.0            121.0    Tuesday  2018     6      100000   \n",
      "5           502.0             55.0     Monday  2018     9       96333   \n",
      "7           502.0             95.0   Thursday  2019     4      111478   \n",
      "8           502.0            189.0  Wednesday  2018     5       87878   \n",
      "10          553.0            137.0   Thursday  2017    11      129487   \n",
      "12          502.0             90.0   Thursday  2016     6       72037   \n",
      "16          502.0            397.0   Thursday  2017    11       81707   \n",
      "18          502.0            168.0     Friday  2017     1      104838   \n",
      "19          502.0             97.0  Wednesday  2019     1      117355   \n",
      "21          502.0            310.0  Wednesday  2018     3      103225   \n",
      "22          502.0             60.0     Monday  2017     4       86206   \n",
      "24          124.0            265.0   Saturday  2015    10       67010   \n",
      "26           95.0            265.0     Friday  2017     4       67500   \n",
      "\n",
      "    floor_category  zilaya_plosad  kuhna_plosad  rastoyanie_do_zentra  \n",
      "2           другой       0.612500      0.148214                    13  \n",
      "3           другой       0.017431      0.057233                     6  \n",
      "4           другой       0.320000      0.410000                     8  \n",
      "5           другой       0.480000      0.303333                    13  \n",
      "7           другой       0.039035      0.266197                    11  \n",
      "8           другой       0.467576      0.266970                    13  \n",
      "10          другой       0.520513      0.217949                    13  \n",
      "12          другой       0.555556      0.166667                    13  \n",
      "16          первый       0.678049      0.109756                    10  \n",
      "18          другой       0.625806      0.180645                    10  \n",
      "19          другой       0.628099      0.099174                    12  \n",
      "21          другой       0.545161      0.183871                     9  \n",
      "22          другой       0.517241      0.189655                    13  \n",
      "24          первый       0.479381      0.202062                     2  \n",
      "26          другой       0.716667      0.116667                    10  \n",
      "\n",
      "[15 rows x 30 columns]\n"
     ]
    }
   ],
   "source": [
    "df_zentra=df.query('rastoyanie_do_zentra>=0 and rastoyanie_do_zentra<=13')\n",
    "\n",
    "print(df_zentra.head(15))\n"
   ]
  },
  {
   "cell_type": "markdown",
   "id": "28e62810",
   "metadata": {},
   "source": [
    " Нужно показать взаимосвязь отдаленности от центра-и показателями. Значит в индекс ставим \"index='rastoyanie_do_zentra'\"-отдаленность от центра и меняем только \"values=\". Потом мы объединим все таблицы пивот-по общему показателю-'rastoyanie_do_zentra'. А пока делаем таблицы пивот-с постоянным индекс-показателем-растояние до центра.\n",
    " "
   ]
  },
  {
   "cell_type": "code",
   "execution_count": 48,
   "id": "9bcdbdf8",
   "metadata": {},
   "outputs": [
    {
     "name": "stdout",
     "output_type": "stream",
     "text": [
      "                      total_area\n",
      "rastoyanie_do_zentra            \n",
      "0                     111.941860\n",
      "1                     103.028926\n",
      "2                      98.667752\n",
      "3                      91.213208\n",
      "4                      95.786026\n",
      "5                      93.705195\n",
      "6                      82.687234\n",
      "7                      76.968059\n",
      "8                      67.357988\n",
      "9                      57.484848\n",
      "10                     55.404162\n",
      "11                     55.298233\n",
      "12                     54.731707\n",
      "13                     51.383037\n"
     ]
    }
   ],
   "source": [
    "df_plozad=df_zentra.pivot_table(index='rastoyanie_do_zentra', values='total_area')\n",
    "print(df_plozad.head(15))"
   ]
  },
  {
   "cell_type": "code",
   "execution_count": 654,
   "id": "1167bcff",
   "metadata": {},
   "outputs": [
    {
     "name": "stdout",
     "output_type": "stream",
     "text": [
      "                         rooms\n",
      "rastoyanie_do_zentra          \n",
      "0                     3.220930\n",
      "1                     3.239669\n",
      "2                     3.114007\n",
      "3                     3.016981\n",
      "4                     2.924672\n",
      "5                     2.740260\n",
      "6                     2.338298\n",
      "7                     2.422604\n",
      "8                     2.208580\n",
      "9                     2.028860\n",
      "10                    1.984666\n",
      "11                    2.018375\n",
      "12                    1.958471\n",
      "13                    1.877330\n"
     ]
    }
   ],
   "source": [
    "df_rooms=df_zentra.pivot_table(index='rastoyanie_do_zentra', values='rooms')\n",
    "print(df_rooms.head(15))"
   ]
  },
  {
   "cell_type": "code",
   "execution_count": 655,
   "id": "8a82c0f3",
   "metadata": {},
   "outputs": [
    {
     "name": "stdout",
     "output_type": "stream",
     "text": [
      "                      ceiling_height\n",
      "rastoyanie_do_zentra                \n",
      "0                           3.099226\n",
      "1                           3.088539\n",
      "2                           3.112127\n",
      "3                           3.118213\n",
      "4                           2.997007\n",
      "5                           2.943652\n",
      "6                           2.895385\n",
      "7                           2.795065\n",
      "8                           3.029784\n",
      "9                           2.773943\n",
      "10                          2.737956\n",
      "11                          2.699070\n",
      "12                          2.699434\n",
      "13                          2.739256\n"
     ]
    }
   ],
   "source": [
    "df_height=df_zentra.pivot_table(index='rastoyanie_do_zentra', values='ceiling_height')\n",
    "print(df_height.head(15))"
   ]
  },
  {
   "cell_type": "code",
   "execution_count": 656,
   "id": "26688557",
   "metadata": {},
   "outputs": [
    {
     "name": "stdout",
     "output_type": "stream",
     "text": [
      "                         price_metr\n",
      "rastoyanie_do_zentra               \n",
      "0                     187716.674419\n",
      "1                     166805.838843\n",
      "2                     147016.651466\n",
      "3                     129782.769811\n",
      "4                     137581.566594\n",
      "5                     147330.223377\n",
      "6                     152774.836170\n",
      "7                     141884.238329\n",
      "8                     120897.902367\n",
      "9                     110531.927850\n",
      "10                    112145.720701\n",
      "11                    107349.250177\n",
      "12                    108820.206987\n",
      "13                     71920.313105\n"
     ]
    }
   ],
   "source": [
    "df_price=df_zentra.pivot_table(index='rastoyanie_do_zentra', values='price_metr')\n",
    "print(df_price.head(15))"
   ]
  },
  {
   "cell_type": "markdown",
   "id": "bb3d4027",
   "metadata": {},
   "source": [
    "Теперь делаем сводную таблицу. Объединяем по 2 таблице-4 таблицы. Больше не дает метод. И потом полученные 2 таблицы объединяем в одну-df_full.\n",
    "Создали матрицу рассеивания для этой таблицы методом pd.plotting.scatter_matrix(df) . Растояние до центра-зависит от цены-чем меньше от центра-тем дороже."
   ]
  },
  {
   "cell_type": "code",
   "execution_count": 660,
   "id": "8be37f85",
   "metadata": {},
   "outputs": [
    {
     "name": "stdout",
     "output_type": "stream",
     "text": [
      "                         price_metr  ceiling_height     rooms  total_area\n",
      "rastoyanie_do_zentra                                                     \n",
      "0                     187716.674419        3.099226  3.220930  111.941860\n",
      "1                     166805.838843        3.088539  3.239669  103.028926\n",
      "2                     147016.651466        3.112127  3.114007   98.667752\n",
      "3                     129782.769811        3.118213  3.016981   91.213208\n",
      "4                     137581.566594        2.997007  2.924672   95.786026\n",
      "5                     147330.223377        2.943652  2.740260   93.705195\n",
      "6                     152774.836170        2.895385  2.338298   82.687234\n",
      "7                     141884.238329        2.795065  2.422604   76.968059\n",
      "8                     120897.902367        3.029784  2.208580   67.357988\n",
      "9                     110531.927850        2.773943  2.028860   57.484848\n",
      "10                    112145.720701        2.737956  1.984666   55.404162\n",
      "11                    107349.250177        2.699070  2.018375   55.298233\n",
      "12                    108820.206987        2.699434  1.958471   54.731707\n",
      "13                     71920.313105        2.739256  1.877330   51.383037\n"
     ]
    }
   ],
   "source": [
    "df_full_rastoyanie1=df_price.join(df_height, on='rastoyanie_do_zentra')\n",
    "df_full_rastoyanie2=df_rooms.join(df_plozad, on='rastoyanie_do_zentra')\n",
    "df_full=df_full_rastoyanie1.join(df_full_rastoyanie2, on='rastoyanie_do_zentra')\n",
    "print(df_full.head(15))\n",
    "\n"
   ]
  },
  {
   "cell_type": "markdown",
   "id": "f62f9fdf",
   "metadata": {},
   "source": [
    "Цена-удаленность от центра-не понятен рост в промежуток с 4-7 кметров отдаленности от центра. Надо исследовать этот кусок.\n",
    "Все остальное логично:\n",
    "- с удалением от центра высота потолков падает.\n",
    "- количество комнат уменьшается\n",
    "- размер квартир уменьшается.\n",
    "Не понятен рос цены на участке с 4-7 км. Может быть там есть пруд или парк поблизости-надо посмотреть."
   ]
  },
  {
   "cell_type": "code",
   "execution_count": 677,
   "id": "988e5fd8",
   "metadata": {},
   "outputs": [
    {
     "data": {
      "text/plain": [
       "<AxesSubplot:xlabel='rastoyanie_do_zentra'>"
      ]
     },
     "execution_count": 677,
     "metadata": {},
     "output_type": "execute_result"
    },
    {
     "data": {
      "image/png": "[encoded data removed]",
      "text/plain": [
       "<Figure size 720x360 with 1 Axes>"
      ]
     },
     "metadata": {
      "needs_background": "light"
     },
     "output_type": "display_data"
    },
    {
     "data": {
      "image/png": "[encoded data removed]",
      "text/plain": [
       "<Figure size 720x360 with 1 Axes>"
      ]
     },
     "metadata": {
      "needs_background": "light"
     },
     "output_type": "display_data"
    },
    {
     "data": {
      "image/png": "[encoded data removed]",
      "text/plain": [
       "<Figure size 720x360 with 1 Axes>"
      ]
     },
     "metadata": {
      "needs_background": "light"
     },
     "output_type": "display_data"
    },
    {
     "data": {
      "image/png": "[encoded data removed]",
      "text/plain": [
       "<Figure size 720x360 with 1 Axes>"
      ]
     },
     "metadata": {
      "needs_background": "light"
     },
     "output_type": "display_data"
    }
   ],
   "source": [
    "df_full.plot(kind='bar', y='price_metr', figsize=(10,5))\n",
    "df_full.plot(kind='bar', y='ceiling_height', figsize=(10,5))\n",
    "df_full.plot(kind='bar', y='rooms', figsize=(10,5))\n",
    "df_full.plot(kind='bar', y='total_area', figsize=(10,5))\n"
   ]
  },
  {
   "cell_type": "code",
   "execution_count": 662,
   "id": "c242ed3c",
   "metadata": {},
   "outputs": [
    {
     "data": {
      "text/plain": [
       "array([[<AxesSubplot:xlabel='price_metr', ylabel='price_metr'>,\n",
       "        <AxesSubplot:xlabel='ceiling_height', ylabel='price_metr'>,\n",
       "        <AxesSubplot:xlabel='rooms', ylabel='price_metr'>,\n",
       "        <AxesSubplot:xlabel='total_area', ylabel='price_metr'>],\n",
       "       [<AxesSubplot:xlabel='price_metr', ylabel='ceiling_height'>,\n",
       "        <AxesSubplot:xlabel='ceiling_height', ylabel='ceiling_height'>,\n",
       "        <AxesSubplot:xlabel='rooms', ylabel='ceiling_height'>,\n",
       "        <AxesSubplot:xlabel='total_area', ylabel='ceiling_height'>],\n",
       "       [<AxesSubplot:xlabel='price_metr', ylabel='rooms'>,\n",
       "        <AxesSubplot:xlabel='ceiling_height', ylabel='rooms'>,\n",
       "        <AxesSubplot:xlabel='rooms', ylabel='rooms'>,\n",
       "        <AxesSubplot:xlabel='total_area', ylabel='rooms'>],\n",
       "       [<AxesSubplot:xlabel='price_metr', ylabel='total_area'>,\n",
       "        <AxesSubplot:xlabel='ceiling_height', ylabel='total_area'>,\n",
       "        <AxesSubplot:xlabel='rooms', ylabel='total_area'>,\n",
       "        <AxesSubplot:xlabel='total_area', ylabel='total_area'>]],\n",
       "      dtype=object)"
      ]
     },
     "execution_count": 662,
     "metadata": {},
     "output_type": "execute_result"
    },
    {
     "data": {
      "image/png": "[encoded data removed]",
      "text/plain": [
       "<Figure size 648x648 with 16 Axes>"
      ]
     },
     "metadata": {
      "needs_background": "light"
     },
     "output_type": "display_data"
    }
   ],
   "source": [
    "pd.plotting.scatter_matrix(df_full, figsize=(9,9)) "
   ]
  },
  {
   "cell_type": "code",
   "execution_count": 30,
   "id": "d6a3e077",
   "metadata": {},
   "outputs": [
    {
     "name": "stdout",
     "output_type": "stream",
     "text": [
      "       total_images  last_price  total_area first_day_exposition  rooms  \\\n",
      "0                20    13000000         108           2019-03-07      3   \n",
      "4                 2    10000000         100           2018-06-19      2   \n",
      "6                 6     3700000          37           2017-11-02      1   \n",
      "7                 5     7915000          71           2019-04-18      2   \n",
      "14                1     4400000          36           2016-06-23      1   \n",
      "...             ...         ...         ...                  ...    ...   \n",
      "23674            10     5950000          56           2019-03-05      3   \n",
      "23681            13     5250000          43           2018-05-11      2   \n",
      "23686             8     3300000          31           2017-04-29      1   \n",
      "23689            13     3550000          35           2018-02-28      1   \n",
      "23690             3     5500000          52           2018-07-19      2   \n",
      "\n",
      "       ceiling_height  floors_total  living_area  floor is_apartment  ...  \\\n",
      "0            2.700000          16.0    51.000000      8               ...   \n",
      "4            3.030000          14.0    32.000000     13               ...   \n",
      "6            2.771499          26.0    10.600000      6               ...   \n",
      "7            2.771499          24.0     2.771499     22               ...   \n",
      "14           2.771499           6.0    17.000000      1               ...   \n",
      "...               ...           ...          ...    ...          ...  ...   \n",
      "23674        2.771499           8.0    32.100000      3               ...   \n",
      "23681        2.500000           5.0    29.000000      2               ...   \n",
      "23686        2.550000           9.0    18.000000      6               ...   \n",
      "23689        2.860000          15.0    16.300000      4               ...   \n",
      "23690        2.771499           5.0    31.000000      2               ...   \n",
      "\n",
      "       ponds_around3000  ponds_nearest  days_exposition        day  year  \\\n",
      "0                   2.0          755.0             95.0   Thursday  2019   \n",
      "4                   1.0           48.0            121.0    Tuesday  2018   \n",
      "6                   0.0          502.0            155.0   Thursday  2017   \n",
      "7                   0.0          502.0             95.0   Thursday  2019   \n",
      "14                  1.0           96.0            203.0   Thursday  2016   \n",
      "...                 ...            ...              ...        ...   ...   \n",
      "23674               2.0          303.0             95.0    Tuesday  2019   \n",
      "23681               2.0          660.0             80.0     Friday  2018   \n",
      "23686               1.0          317.0            193.0   Saturday  2017   \n",
      "23689               2.0          652.0             29.0  Wednesday  2018   \n",
      "23690               0.0          502.0             15.0   Thursday  2018   \n",
      "\n",
      "       month  price_metr  floor_category  zilaya_plosad  kuhna_plosad  \n",
      "0          3      120370          другой       0.472222      0.231481  \n",
      "4          6      100000          другой       0.320000      0.410000  \n",
      "6         11      100000          другой       0.286486      0.389189  \n",
      "7          4      111478          другой       0.039035      0.266197  \n",
      "14         6      122222          первый       0.472222      0.222222  \n",
      "...      ...         ...             ...            ...           ...  \n",
      "23674      3      106250          другой       0.573214      0.151786  \n",
      "23681      5      122093          другой       0.674419      0.139535  \n",
      "23686      4      106451          другой       0.580645      0.209677  \n",
      "23689      2      101428          другой       0.465714      0.260000  \n",
      "23690      7      105769          другой       0.596154      0.115385  \n",
      "\n",
      "[6372 rows x 29 columns]\n",
      "            parks_around3000\n",
      "price_metr                  \n",
      "100000              0.595413\n",
      "100038              0.000000\n",
      "100078              0.000000\n",
      "100163              1.000000\n",
      "100169              0.000000\n",
      "            ponds_around3000\n",
      "price_metr                  \n",
      "100000              0.660095\n",
      "100038              0.000000\n",
      "100078              0.000000\n",
      "100163              1.000000\n",
      "100169              1.000000\n",
      "            ponds_nearest\n",
      "price_metr               \n",
      "100000         525.408989\n",
      "100038         502.000000\n",
      "100078         502.000000\n",
      "100163         575.000000\n",
      "100169         894.000000\n",
      "            parks_nearest\n",
      "price_metr               \n",
      "100000         455.294382\n",
      "100038         455.000000\n",
      "100078         455.000000\n",
      "100163         579.000000\n",
      "100169         455.000000\n",
      "            parks_around3000  ponds_around3000  ponds_nearest  parks_nearest\n",
      "price_metr                                                                  \n",
      "100000              0.595413          0.660095     525.408989     455.294382\n",
      "100038              0.000000          0.000000     502.000000     455.000000\n",
      "100078              0.000000          0.000000     502.000000     455.000000\n",
      "100163              1.000000          1.000000     575.000000     579.000000\n",
      "100169              0.000000          1.000000     894.000000     455.000000\n",
      "100227              0.000000          1.000000     330.000000     455.000000\n",
      "100230              1.000000          0.000000     502.000000     429.000000\n",
      "100243              0.000000          1.000000     178.000000     455.000000\n",
      "100256              1.000000          1.000000     738.000000     909.000000\n",
      "100263              0.000000          1.000000     776.000000     455.000000\n",
      "100312              0.611408          0.770255     502.000000     455.000000\n",
      "100323              0.000000          1.000000     756.000000     455.000000\n",
      "100370              0.000000          1.000000     733.000000     455.000000\n",
      "100425              2.000000          2.000000     326.000000     475.000000\n",
      "100446              1.000000          3.000000     142.000000     342.000000\n"
     ]
    }
   ],
   "source": [
    "df_zena_novaya=df.query('price_metr >=100000 and price_metr <=125000')\n",
    "print(df_zena_novaya)\n",
    "\n",
    "df_price_park=df_zena_novaya.pivot_table(index='price_metr', values='parks_around3000')\n",
    "print(df_price_park.head())\n",
    "\n",
    "df_price_ponds=df_zena_novaya.pivot_table(index='price_metr', values='ponds_around3000')\n",
    "print(df_price_ponds.head())\n",
    "\n",
    "df_price_ponds_nearest=df_zena_novaya.pivot_table(index='price_metr', values='ponds_nearest')\n",
    "print(df_price_ponds_nearest.head())\n",
    "\n",
    "df_price_parks_nearest=df_zena_novaya.pivot_table(index='price_metr', values='parks_nearest')\n",
    "print(df_price_parks_nearest.head())\n",
    "\n",
    "\n",
    "df_full_park=df_price_park.join(df_price_ponds, on='price_metr')\n",
    "\n",
    "df_full_park2=df_price_ponds_nearest.join(df_price_parks_nearest, on='price_metr')\n",
    "\n",
    "df_full3=df_full_park.join(df_full_park2, on='price_metr')\n",
    "print(df_full3.head(15))\n",
    "\n"
   ]
  },
  {
   "cell_type": "code",
   "execution_count": 32,
   "id": "2ad71247",
   "metadata": {},
   "outputs": [
    {
     "data": {
      "text/plain": [
       "<AxesSubplot:xlabel='price_metr'>"
      ]
     },
     "execution_count": 32,
     "metadata": {},
     "output_type": "execute_result"
    },
    {
     "data": {
      "image/png": "[encoded data removed]",
      "text/plain": [
       "<Figure size 720x360 with 1 Axes>"
      ]
     },
     "metadata": {
      "needs_background": "light"
     },
     "output_type": "display_data"
    },
    {
     "data": {
      "image/png": "[encoded data removed]",
      "text/plain": [
       "<Figure size 720x360 with 1 Axes>"
      ]
     },
     "metadata": {
      "needs_background": "light"
     },
     "output_type": "display_data"
    },
    {
     "data": {
      "image/png": "[encoded data removed]",
      "text/plain": [
       "<Figure size 720x360 with 1 Axes>"
      ]
     },
     "metadata": {
      "needs_background": "light"
     },
     "output_type": "display_data"
    },
    {
     "data": {
      "image/png": "[encoded data removed]",
      "text/plain": [
       "<Figure size 720x360 with 1 Axes>"
      ]
     },
     "metadata": {
      "needs_background": "light"
     },
     "output_type": "display_data"
    }
   ],
   "source": [
    "\n",
    "df_full3.plot(kind='bar', y='parks_around3000', figsize=(10,5))\n",
    "\n",
    "df_full3.plot(kind='bar', y='ponds_around3000', figsize=(10,5))\n",
    "\n",
    "df_full3.plot(kind='bar', y='ponds_nearest', figsize=(10,5))\n",
    "\n",
    "df_full3.plot(kind='bar', y='parks_nearest', figsize=(10,5))"
   ]
  },
  {
   "cell_type": "markdown",
   "id": "5fdb3f41",
   "metadata": {},
   "source": [
    "Вывод:\n",
    "    Да цена растет в этом промежутке изза парков и прудов."
   ]
  },
  {
   "cell_type": "markdown",
   "id": "3d0d8fe7",
   "metadata": {},
   "source": [
    "Вывод общий:\n",
    "На цену на квартиры влияет и отдаленность от центра и высокие потолки и день недели продажи и год продажи и наличие парков и прудов.Влияет много факторов-в зависимости от того что наиболее значимо для покупателя. "
   ]
  }
 ],
 "metadata": {
  "kernelspec": {
   "display_name": "Python 3 (ipykernel)",
   "language": "python",
   "name": "python3"
  },
  "language_info": {
   "codemirror_mode": {
    "name": "ipython",
    "version": 3
   },
   "file_extension": ".py",
   "mimetype": "text/x-python",
   "name": "python",
   "nbconvert_exporter": "python",
   "pygments_lexer": "ipython3",
   "version": "3.9.7"
  }
 },
 "nbformat": 4,
 "nbformat_minor": 5
}
